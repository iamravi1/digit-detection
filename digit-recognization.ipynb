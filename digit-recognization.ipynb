{
 "cells": [
  {
   "cell_type": "code",
   "execution_count": 1,
   "id": "c1f40648",
   "metadata": {
    "_cell_guid": "b1076dfc-b9ad-4769-8c92-a6c4dae69d19",
    "_uuid": "8f2839f25d086af736a60e9eeb907d3b93b6e0e5",
    "execution": {
     "iopub.execute_input": "2022-07-22T03:49:23.476878Z",
     "iopub.status.busy": "2022-07-22T03:49:23.476294Z",
     "iopub.status.idle": "2022-07-22T03:49:23.504858Z",
     "shell.execute_reply": "2022-07-22T03:49:23.503680Z"
    },
    "papermill": {
     "duration": 0.047599,
     "end_time": "2022-07-22T03:49:23.510464",
     "exception": false,
     "start_time": "2022-07-22T03:49:23.462865",
     "status": "completed"
    },
    "tags": []
   },
   "outputs": [
    {
     "name": "stdout",
     "output_type": "stream",
     "text": [
      "/kaggle/input/digit-reg/sample_submission.csv\n",
      "/kaggle/input/digit-reg/train.csv\n",
      "/kaggle/input/digit-reg/test.csv\n"
     ]
    }
   ],
   "source": [
    "# This Python 3 environment comes with many helpful analytics libraries installed\n",
    "# It is defined by the kaggle/python Docker image: https://github.com/kaggle/docker-python\n",
    "# For example, here's several helpful packages to load\n",
    "\n",
    "import numpy as np # linear algebra\n",
    "import pandas as pd # data processing, CSV file I/O (e.g. pd.read_csv)\n",
    "\n",
    "# Input data files are available in the read-only \"../input/\" directory\n",
    "# For example, running this (by clicking run or pressing Shift+Enter) will list all files under the input directory\n",
    "\n",
    "import os\n",
    "for dirname, _, filenames in os.walk('/kaggle/input'):\n",
    "    for filename in filenames:\n",
    "        print(os.path.join(dirname, filename))\n",
    "\n",
    "# You can write up to 20GB to the current directory (/kaggle/working/) that gets preserved as output when you create a version using \"Save & Run All\" \n",
    "# You can also write temporary files to /kaggle/temp/, but they won't be saved outside of the current session"
   ]
  },
  {
   "cell_type": "code",
   "execution_count": 2,
   "id": "05624f38",
   "metadata": {
    "execution": {
     "iopub.execute_input": "2022-07-22T03:49:23.529121Z",
     "iopub.status.busy": "2022-07-22T03:49:23.527872Z",
     "iopub.status.idle": "2022-07-22T03:49:35.016068Z",
     "shell.execute_reply": "2022-07-22T03:49:35.014543Z"
    },
    "papermill": {
     "duration": 11.498889,
     "end_time": "2022-07-22T03:49:35.018965",
     "exception": false,
     "start_time": "2022-07-22T03:49:23.520076",
     "status": "completed"
    },
    "tags": []
   },
   "outputs": [],
   "source": [
    "import tensorflow as tf\n",
    "import seaborn as sns\n",
    "import matplotlib.pyplot as plt\n",
    "from tensorflow import keras\n",
    "from tensorflow.keras import layers,models"
   ]
  },
  {
   "cell_type": "code",
   "execution_count": 3,
   "id": "642440aa",
   "metadata": {
    "execution": {
     "iopub.execute_input": "2022-07-22T03:49:35.034220Z",
     "iopub.status.busy": "2022-07-22T03:49:35.033459Z",
     "iopub.status.idle": "2022-07-22T03:49:41.320023Z",
     "shell.execute_reply": "2022-07-22T03:49:41.318677Z"
    },
    "papermill": {
     "duration": 6.297062,
     "end_time": "2022-07-22T03:49:41.323009",
     "exception": false,
     "start_time": "2022-07-22T03:49:35.025947",
     "status": "completed"
    },
    "tags": []
   },
   "outputs": [],
   "source": [
    "train = pd.read_csv(\"../input/digit-reg/train.csv\")\n",
    "X_test = pd.read_csv('../input/digit-reg/test.csv')"
   ]
  },
  {
   "cell_type": "code",
   "execution_count": 4,
   "id": "30f9a863",
   "metadata": {
    "execution": {
     "iopub.execute_input": "2022-07-22T03:49:41.337658Z",
     "iopub.status.busy": "2022-07-22T03:49:41.337220Z",
     "iopub.status.idle": "2022-07-22T03:49:41.378543Z",
     "shell.execute_reply": "2022-07-22T03:49:41.377132Z"
    },
    "papermill": {
     "duration": 0.051832,
     "end_time": "2022-07-22T03:49:41.381233",
     "exception": false,
     "start_time": "2022-07-22T03:49:41.329401",
     "status": "completed"
    },
    "tags": []
   },
   "outputs": [
    {
     "data": {
      "text/html": [
       "<div>\n",
       "<style scoped>\n",
       "    .dataframe tbody tr th:only-of-type {\n",
       "        vertical-align: middle;\n",
       "    }\n",
       "\n",
       "    .dataframe tbody tr th {\n",
       "        vertical-align: top;\n",
       "    }\n",
       "\n",
       "    .dataframe thead th {\n",
       "        text-align: right;\n",
       "    }\n",
       "</style>\n",
       "<table border=\"1\" class=\"dataframe\">\n",
       "  <thead>\n",
       "    <tr style=\"text-align: right;\">\n",
       "      <th></th>\n",
       "      <th>label</th>\n",
       "      <th>pixel0</th>\n",
       "      <th>pixel1</th>\n",
       "      <th>pixel2</th>\n",
       "      <th>pixel3</th>\n",
       "      <th>pixel4</th>\n",
       "      <th>pixel5</th>\n",
       "      <th>pixel6</th>\n",
       "      <th>pixel7</th>\n",
       "      <th>pixel8</th>\n",
       "      <th>...</th>\n",
       "      <th>pixel774</th>\n",
       "      <th>pixel775</th>\n",
       "      <th>pixel776</th>\n",
       "      <th>pixel777</th>\n",
       "      <th>pixel778</th>\n",
       "      <th>pixel779</th>\n",
       "      <th>pixel780</th>\n",
       "      <th>pixel781</th>\n",
       "      <th>pixel782</th>\n",
       "      <th>pixel783</th>\n",
       "    </tr>\n",
       "  </thead>\n",
       "  <tbody>\n",
       "    <tr>\n",
       "      <th>0</th>\n",
       "      <td>1</td>\n",
       "      <td>0</td>\n",
       "      <td>0</td>\n",
       "      <td>0</td>\n",
       "      <td>0</td>\n",
       "      <td>0</td>\n",
       "      <td>0</td>\n",
       "      <td>0</td>\n",
       "      <td>0</td>\n",
       "      <td>0</td>\n",
       "      <td>...</td>\n",
       "      <td>0</td>\n",
       "      <td>0</td>\n",
       "      <td>0</td>\n",
       "      <td>0</td>\n",
       "      <td>0</td>\n",
       "      <td>0</td>\n",
       "      <td>0</td>\n",
       "      <td>0</td>\n",
       "      <td>0</td>\n",
       "      <td>0</td>\n",
       "    </tr>\n",
       "    <tr>\n",
       "      <th>1</th>\n",
       "      <td>0</td>\n",
       "      <td>0</td>\n",
       "      <td>0</td>\n",
       "      <td>0</td>\n",
       "      <td>0</td>\n",
       "      <td>0</td>\n",
       "      <td>0</td>\n",
       "      <td>0</td>\n",
       "      <td>0</td>\n",
       "      <td>0</td>\n",
       "      <td>...</td>\n",
       "      <td>0</td>\n",
       "      <td>0</td>\n",
       "      <td>0</td>\n",
       "      <td>0</td>\n",
       "      <td>0</td>\n",
       "      <td>0</td>\n",
       "      <td>0</td>\n",
       "      <td>0</td>\n",
       "      <td>0</td>\n",
       "      <td>0</td>\n",
       "    </tr>\n",
       "    <tr>\n",
       "      <th>2</th>\n",
       "      <td>1</td>\n",
       "      <td>0</td>\n",
       "      <td>0</td>\n",
       "      <td>0</td>\n",
       "      <td>0</td>\n",
       "      <td>0</td>\n",
       "      <td>0</td>\n",
       "      <td>0</td>\n",
       "      <td>0</td>\n",
       "      <td>0</td>\n",
       "      <td>...</td>\n",
       "      <td>0</td>\n",
       "      <td>0</td>\n",
       "      <td>0</td>\n",
       "      <td>0</td>\n",
       "      <td>0</td>\n",
       "      <td>0</td>\n",
       "      <td>0</td>\n",
       "      <td>0</td>\n",
       "      <td>0</td>\n",
       "      <td>0</td>\n",
       "    </tr>\n",
       "    <tr>\n",
       "      <th>3</th>\n",
       "      <td>4</td>\n",
       "      <td>0</td>\n",
       "      <td>0</td>\n",
       "      <td>0</td>\n",
       "      <td>0</td>\n",
       "      <td>0</td>\n",
       "      <td>0</td>\n",
       "      <td>0</td>\n",
       "      <td>0</td>\n",
       "      <td>0</td>\n",
       "      <td>...</td>\n",
       "      <td>0</td>\n",
       "      <td>0</td>\n",
       "      <td>0</td>\n",
       "      <td>0</td>\n",
       "      <td>0</td>\n",
       "      <td>0</td>\n",
       "      <td>0</td>\n",
       "      <td>0</td>\n",
       "      <td>0</td>\n",
       "      <td>0</td>\n",
       "    </tr>\n",
       "    <tr>\n",
       "      <th>4</th>\n",
       "      <td>0</td>\n",
       "      <td>0</td>\n",
       "      <td>0</td>\n",
       "      <td>0</td>\n",
       "      <td>0</td>\n",
       "      <td>0</td>\n",
       "      <td>0</td>\n",
       "      <td>0</td>\n",
       "      <td>0</td>\n",
       "      <td>0</td>\n",
       "      <td>...</td>\n",
       "      <td>0</td>\n",
       "      <td>0</td>\n",
       "      <td>0</td>\n",
       "      <td>0</td>\n",
       "      <td>0</td>\n",
       "      <td>0</td>\n",
       "      <td>0</td>\n",
       "      <td>0</td>\n",
       "      <td>0</td>\n",
       "      <td>0</td>\n",
       "    </tr>\n",
       "    <tr>\n",
       "      <th>...</th>\n",
       "      <td>...</td>\n",
       "      <td>...</td>\n",
       "      <td>...</td>\n",
       "      <td>...</td>\n",
       "      <td>...</td>\n",
       "      <td>...</td>\n",
       "      <td>...</td>\n",
       "      <td>...</td>\n",
       "      <td>...</td>\n",
       "      <td>...</td>\n",
       "      <td>...</td>\n",
       "      <td>...</td>\n",
       "      <td>...</td>\n",
       "      <td>...</td>\n",
       "      <td>...</td>\n",
       "      <td>...</td>\n",
       "      <td>...</td>\n",
       "      <td>...</td>\n",
       "      <td>...</td>\n",
       "      <td>...</td>\n",
       "      <td>...</td>\n",
       "    </tr>\n",
       "    <tr>\n",
       "      <th>41995</th>\n",
       "      <td>0</td>\n",
       "      <td>0</td>\n",
       "      <td>0</td>\n",
       "      <td>0</td>\n",
       "      <td>0</td>\n",
       "      <td>0</td>\n",
       "      <td>0</td>\n",
       "      <td>0</td>\n",
       "      <td>0</td>\n",
       "      <td>0</td>\n",
       "      <td>...</td>\n",
       "      <td>0</td>\n",
       "      <td>0</td>\n",
       "      <td>0</td>\n",
       "      <td>0</td>\n",
       "      <td>0</td>\n",
       "      <td>0</td>\n",
       "      <td>0</td>\n",
       "      <td>0</td>\n",
       "      <td>0</td>\n",
       "      <td>0</td>\n",
       "    </tr>\n",
       "    <tr>\n",
       "      <th>41996</th>\n",
       "      <td>1</td>\n",
       "      <td>0</td>\n",
       "      <td>0</td>\n",
       "      <td>0</td>\n",
       "      <td>0</td>\n",
       "      <td>0</td>\n",
       "      <td>0</td>\n",
       "      <td>0</td>\n",
       "      <td>0</td>\n",
       "      <td>0</td>\n",
       "      <td>...</td>\n",
       "      <td>0</td>\n",
       "      <td>0</td>\n",
       "      <td>0</td>\n",
       "      <td>0</td>\n",
       "      <td>0</td>\n",
       "      <td>0</td>\n",
       "      <td>0</td>\n",
       "      <td>0</td>\n",
       "      <td>0</td>\n",
       "      <td>0</td>\n",
       "    </tr>\n",
       "    <tr>\n",
       "      <th>41997</th>\n",
       "      <td>7</td>\n",
       "      <td>0</td>\n",
       "      <td>0</td>\n",
       "      <td>0</td>\n",
       "      <td>0</td>\n",
       "      <td>0</td>\n",
       "      <td>0</td>\n",
       "      <td>0</td>\n",
       "      <td>0</td>\n",
       "      <td>0</td>\n",
       "      <td>...</td>\n",
       "      <td>0</td>\n",
       "      <td>0</td>\n",
       "      <td>0</td>\n",
       "      <td>0</td>\n",
       "      <td>0</td>\n",
       "      <td>0</td>\n",
       "      <td>0</td>\n",
       "      <td>0</td>\n",
       "      <td>0</td>\n",
       "      <td>0</td>\n",
       "    </tr>\n",
       "    <tr>\n",
       "      <th>41998</th>\n",
       "      <td>6</td>\n",
       "      <td>0</td>\n",
       "      <td>0</td>\n",
       "      <td>0</td>\n",
       "      <td>0</td>\n",
       "      <td>0</td>\n",
       "      <td>0</td>\n",
       "      <td>0</td>\n",
       "      <td>0</td>\n",
       "      <td>0</td>\n",
       "      <td>...</td>\n",
       "      <td>0</td>\n",
       "      <td>0</td>\n",
       "      <td>0</td>\n",
       "      <td>0</td>\n",
       "      <td>0</td>\n",
       "      <td>0</td>\n",
       "      <td>0</td>\n",
       "      <td>0</td>\n",
       "      <td>0</td>\n",
       "      <td>0</td>\n",
       "    </tr>\n",
       "    <tr>\n",
       "      <th>41999</th>\n",
       "      <td>9</td>\n",
       "      <td>0</td>\n",
       "      <td>0</td>\n",
       "      <td>0</td>\n",
       "      <td>0</td>\n",
       "      <td>0</td>\n",
       "      <td>0</td>\n",
       "      <td>0</td>\n",
       "      <td>0</td>\n",
       "      <td>0</td>\n",
       "      <td>...</td>\n",
       "      <td>0</td>\n",
       "      <td>0</td>\n",
       "      <td>0</td>\n",
       "      <td>0</td>\n",
       "      <td>0</td>\n",
       "      <td>0</td>\n",
       "      <td>0</td>\n",
       "      <td>0</td>\n",
       "      <td>0</td>\n",
       "      <td>0</td>\n",
       "    </tr>\n",
       "  </tbody>\n",
       "</table>\n",
       "<p>42000 rows × 785 columns</p>\n",
       "</div>"
      ],
      "text/plain": [
       "       label  pixel0  pixel1  pixel2  pixel3  pixel4  pixel5  pixel6  pixel7  \\\n",
       "0          1       0       0       0       0       0       0       0       0   \n",
       "1          0       0       0       0       0       0       0       0       0   \n",
       "2          1       0       0       0       0       0       0       0       0   \n",
       "3          4       0       0       0       0       0       0       0       0   \n",
       "4          0       0       0       0       0       0       0       0       0   \n",
       "...      ...     ...     ...     ...     ...     ...     ...     ...     ...   \n",
       "41995      0       0       0       0       0       0       0       0       0   \n",
       "41996      1       0       0       0       0       0       0       0       0   \n",
       "41997      7       0       0       0       0       0       0       0       0   \n",
       "41998      6       0       0       0       0       0       0       0       0   \n",
       "41999      9       0       0       0       0       0       0       0       0   \n",
       "\n",
       "       pixel8  ...  pixel774  pixel775  pixel776  pixel777  pixel778  \\\n",
       "0           0  ...         0         0         0         0         0   \n",
       "1           0  ...         0         0         0         0         0   \n",
       "2           0  ...         0         0         0         0         0   \n",
       "3           0  ...         0         0         0         0         0   \n",
       "4           0  ...         0         0         0         0         0   \n",
       "...       ...  ...       ...       ...       ...       ...       ...   \n",
       "41995       0  ...         0         0         0         0         0   \n",
       "41996       0  ...         0         0         0         0         0   \n",
       "41997       0  ...         0         0         0         0         0   \n",
       "41998       0  ...         0         0         0         0         0   \n",
       "41999       0  ...         0         0         0         0         0   \n",
       "\n",
       "       pixel779  pixel780  pixel781  pixel782  pixel783  \n",
       "0             0         0         0         0         0  \n",
       "1             0         0         0         0         0  \n",
       "2             0         0         0         0         0  \n",
       "3             0         0         0         0         0  \n",
       "4             0         0         0         0         0  \n",
       "...         ...       ...       ...       ...       ...  \n",
       "41995         0         0         0         0         0  \n",
       "41996         0         0         0         0         0  \n",
       "41997         0         0         0         0         0  \n",
       "41998         0         0         0         0         0  \n",
       "41999         0         0         0         0         0  \n",
       "\n",
       "[42000 rows x 785 columns]"
      ]
     },
     "execution_count": 4,
     "metadata": {},
     "output_type": "execute_result"
    }
   ],
   "source": [
    "train"
   ]
  },
  {
   "cell_type": "code",
   "execution_count": 5,
   "id": "bc7b883d",
   "metadata": {
    "execution": {
     "iopub.execute_input": "2022-07-22T03:49:41.396786Z",
     "iopub.status.busy": "2022-07-22T03:49:41.396376Z",
     "iopub.status.idle": "2022-07-22T03:49:41.517329Z",
     "shell.execute_reply": "2022-07-22T03:49:41.515721Z"
    },
    "papermill": {
     "duration": 0.131997,
     "end_time": "2022-07-22T03:49:41.520112",
     "exception": false,
     "start_time": "2022-07-22T03:49:41.388115",
     "status": "completed"
    },
    "tags": []
   },
   "outputs": [],
   "source": [
    "y_train = train['label']\n",
    "X_train = train.drop(columns=['label'])"
   ]
  },
  {
   "cell_type": "code",
   "execution_count": 6,
   "id": "1ac0247d",
   "metadata": {
    "execution": {
     "iopub.execute_input": "2022-07-22T03:49:41.535865Z",
     "iopub.status.busy": "2022-07-22T03:49:41.535444Z",
     "iopub.status.idle": "2022-07-22T03:49:41.544866Z",
     "shell.execute_reply": "2022-07-22T03:49:41.543562Z"
    },
    "papermill": {
     "duration": 0.020722,
     "end_time": "2022-07-22T03:49:41.547679",
     "exception": false,
     "start_time": "2022-07-22T03:49:41.526957",
     "status": "completed"
    },
    "tags": []
   },
   "outputs": [
    {
     "data": {
      "text/plain": [
       "array([1, 0, 1, ..., 7, 6, 9])"
      ]
     },
     "execution_count": 6,
     "metadata": {},
     "output_type": "execute_result"
    }
   ],
   "source": [
    "y_train = np.array(y_train)\n",
    "y_train"
   ]
  },
  {
   "cell_type": "code",
   "execution_count": 7,
   "id": "7b1428d7",
   "metadata": {
    "execution": {
     "iopub.execute_input": "2022-07-22T03:49:41.563750Z",
     "iopub.status.busy": "2022-07-22T03:49:41.563366Z",
     "iopub.status.idle": "2022-07-22T03:49:41.570592Z",
     "shell.execute_reply": "2022-07-22T03:49:41.569445Z"
    },
    "papermill": {
     "duration": 0.01816,
     "end_time": "2022-07-22T03:49:41.573028",
     "exception": false,
     "start_time": "2022-07-22T03:49:41.554868",
     "status": "completed"
    },
    "tags": []
   },
   "outputs": [
    {
     "data": {
      "text/plain": [
       "(42000, 784)"
      ]
     },
     "execution_count": 7,
     "metadata": {},
     "output_type": "execute_result"
    }
   ],
   "source": [
    "X_train.shape"
   ]
  },
  {
   "cell_type": "code",
   "execution_count": 8,
   "id": "46de1844",
   "metadata": {
    "execution": {
     "iopub.execute_input": "2022-07-22T03:49:41.589138Z",
     "iopub.status.busy": "2022-07-22T03:49:41.588767Z",
     "iopub.status.idle": "2022-07-22T03:49:41.593645Z",
     "shell.execute_reply": "2022-07-22T03:49:41.592501Z"
    },
    "papermill": {
     "duration": 0.015648,
     "end_time": "2022-07-22T03:49:41.595990",
     "exception": false,
     "start_time": "2022-07-22T03:49:41.580342",
     "status": "completed"
    },
    "tags": []
   },
   "outputs": [],
   "source": [
    "X_test = X_test.to_numpy()"
   ]
  },
  {
   "cell_type": "code",
   "execution_count": 9,
   "id": "fd43b984",
   "metadata": {
    "execution": {
     "iopub.execute_input": "2022-07-22T03:49:41.611638Z",
     "iopub.status.busy": "2022-07-22T03:49:41.611248Z",
     "iopub.status.idle": "2022-07-22T03:49:41.616456Z",
     "shell.execute_reply": "2022-07-22T03:49:41.615537Z"
    },
    "papermill": {
     "duration": 0.015824,
     "end_time": "2022-07-22T03:49:41.618913",
     "exception": false,
     "start_time": "2022-07-22T03:49:41.603089",
     "status": "completed"
    },
    "tags": []
   },
   "outputs": [],
   "source": [
    "X_train = X_train.to_numpy()"
   ]
  },
  {
   "cell_type": "code",
   "execution_count": 10,
   "id": "9d692ca3",
   "metadata": {
    "execution": {
     "iopub.execute_input": "2022-07-22T03:49:41.635468Z",
     "iopub.status.busy": "2022-07-22T03:49:41.635010Z",
     "iopub.status.idle": "2022-07-22T03:49:41.644457Z",
     "shell.execute_reply": "2022-07-22T03:49:41.643271Z"
    },
    "papermill": {
     "duration": 0.020441,
     "end_time": "2022-07-22T03:49:41.646915",
     "exception": false,
     "start_time": "2022-07-22T03:49:41.626474",
     "status": "completed"
    },
    "tags": []
   },
   "outputs": [
    {
     "data": {
      "text/plain": [
       "array([  0,   0,   0,   0,   0,   0,   0,   0,   0,   0,   0,   0,   0,\n",
       "         0,   0,   0,   0,   0,   0,   0,   0,   0,   0,   0,   0,   0,\n",
       "         0,   0,   0,   0,   0,   0,   0,   0,   0,   0,   0,   0,   0,\n",
       "         0,   0,   0,   0,   0,   0,   0,   0,   0,   0,   0,   0,   0,\n",
       "         0,   0,   0,   0,   0,   0,   0,   0,   0,   0,   0,   0,   0,\n",
       "         0,   0,   0,   0,   0,   0,   0,   0,   0,   0,   0,   0,   0,\n",
       "         0,   0,   0,   0,   0,   0,   0,   0,   0,   0,   0,   0,   0,\n",
       "         0,   0,   0,   0,   0,   0,   0,   0,   0,   0,   0,   0,   0,\n",
       "         0,   0,   0,   0,   0,   0,   0,   0,   0,   0,   0,   0,   0,\n",
       "         0,   0,   0,   0,   0,  10,  17,  17,  17,  17,  81, 180, 180,\n",
       "        35,   0,   0,   0,   0,   0,   0,   0,   0,   0,   0,   0,   0,\n",
       "         0,   0,   0,   0,   0,   0,   0, 139, 253, 253, 253, 253, 253,\n",
       "       253, 253,  48,   0,   0,   0,   0,   0,   0,   0,   0,   0,   0,\n",
       "         0,   0,   0,   0,   0,   0,   0,   0,  60, 228, 253, 253, 253,\n",
       "       253, 253, 253, 253, 207, 197,  46,   0,   0,   0,   0,   0,   0,\n",
       "         0,   0,   0,   0,   0,   0,   0,   0,   0,   0, 213, 253, 253,\n",
       "       253, 253, 253, 253, 253, 253, 253, 253, 223,  52,   0,   0,   0,\n",
       "         0,   0,   0,   0,   0,   0,   0,   0,   0,   0,   0,   0,  66,\n",
       "       231, 253, 253, 253, 108,  40,  40, 115, 244, 253, 253, 134,   3,\n",
       "         0,   0,   0,   0,   0,   0,   0,   0,   0,   0,   0,   0,   0,\n",
       "         0,   0,  63, 114, 114, 114,  37,   0,   0,   0, 205, 253, 253,\n",
       "       253,  15,   0,   0,   0,   0,   0,   0,   0,   0,   0,   0,   0,\n",
       "         0,   0,   0,   0,   0,   0,   0,   0,   0,   0,   0,   0,  57,\n",
       "       253, 253, 253,  15,   0,   0,   0,   0,   0,   0,   0,   0,   0,\n",
       "         0,   0,   0,   0,   0,   0,   0,   0,   0,   0,   0,   0,   0,\n",
       "         0,  42, 253, 253, 253,  15,   0,   0,   0,   0,   0,   0,   0,\n",
       "         0,   0,   0,   0,   0,   0,   0,   0,   0,   0,   0,   0,   0,\n",
       "         0,   0,   0,  95, 253, 253, 253,  15,   0,   0,   0,   0,   0,\n",
       "         0,   0,   0,   0,   0,   0,   0,   0,   0,   0,   0,   0,   0,\n",
       "         0,   0,   0,   0,   0, 205, 253, 253, 253,  15,   0,   0,   0,\n",
       "         0,   0,   0,   0,   0,   0,   0,   0,   0,   0,   0,   0,   0,\n",
       "         0,  61,  99,  96,   0,   0,  45, 224, 253, 253, 195,  10,   0,\n",
       "         0,   0,   0,   0,   0,   0,   0,   0,   0,   0,  11,  25, 105,\n",
       "        83, 189, 189, 228, 253, 251, 189, 189, 218, 253, 253, 210,  27,\n",
       "         0,   0,   0,   0,   0,   0,   0,   0,   0,   0,  42, 116, 173,\n",
       "       253, 253, 253, 253, 253, 253, 253, 253, 253, 253, 253, 253, 253,\n",
       "       221, 116,   7,   0,   0,   0,   0,   0,   0,   0,   0,   0, 118,\n",
       "       253, 253, 253, 253, 245, 212, 222, 253, 253, 253, 253, 253, 253,\n",
       "       253, 253, 253, 253, 160,  15,   0,   0,   0,   0,   0,   0,   0,\n",
       "         0, 254, 253, 253, 253, 189,  99,   0,  32, 202, 253, 253, 253,\n",
       "       240, 122, 122, 190, 253, 253, 253, 174,   0,   0,   0,   0,   0,\n",
       "         0,   0,   0, 255, 253, 253, 253, 238, 222, 222, 222, 241, 253,\n",
       "       253, 230,  70,   0,   0,  17, 175, 229, 253, 253,   0,   0,   0,\n",
       "         0,   0,   0,   0,   0, 158, 253, 253, 253, 253, 253, 253, 253,\n",
       "       253, 205, 106,  65,   0,   0,   0,   0,   0,  62, 244, 157,   0,\n",
       "         0,   0,   0,   0,   0,   0,   0,   6,  26, 179, 179, 179, 179,\n",
       "       179,  30,  15,  10,   0,   0,   0,   0,   0,   0,   0,   0,  14,\n",
       "         6,   0,   0,   0,   0,   0,   0,   0,   0,   0,   0,   0,   0,\n",
       "         0,   0,   0,   0,   0,   0,   0,   0,   0,   0,   0,   0,   0,\n",
       "         0,   0,   0,   0,   0,   0,   0,   0,   0,   0,   0,   0,   0,\n",
       "         0,   0,   0,   0,   0,   0,   0,   0,   0,   0,   0,   0,   0,\n",
       "         0,   0,   0,   0,   0,   0,   0,   0,   0,   0,   0,   0,   0,\n",
       "         0,   0,   0,   0,   0,   0,   0,   0,   0,   0,   0,   0,   0,\n",
       "         0,   0,   0,   0,   0,   0,   0,   0,   0,   0,   0,   0,   0,\n",
       "         0,   0,   0,   0,   0,   0,   0,   0,   0,   0,   0,   0,   0,\n",
       "         0,   0,   0,   0,   0,   0,   0,   0,   0,   0,   0,   0,   0,\n",
       "         0,   0,   0,   0,   0,   0,   0,   0,   0,   0,   0,   0,   0,\n",
       "         0,   0,   0,   0,   0,   0,   0,   0,   0,   0,   0,   0,   0,\n",
       "         0,   0,   0,   0,   0,   0,   0,   0,   0,   0,   0,   0,   0,\n",
       "         0,   0,   0,   0,   0,   0,   0,   0,   0,   0,   0,   0,   0,\n",
       "         0,   0,   0,   0])"
      ]
     },
     "execution_count": 10,
     "metadata": {},
     "output_type": "execute_result"
    }
   ],
   "source": [
    "X_test[0]"
   ]
  },
  {
   "cell_type": "code",
   "execution_count": 11,
   "id": "cedb0ac4",
   "metadata": {
    "execution": {
     "iopub.execute_input": "2022-07-22T03:49:41.663694Z",
     "iopub.status.busy": "2022-07-22T03:49:41.662737Z",
     "iopub.status.idle": "2022-07-22T03:49:41.671589Z",
     "shell.execute_reply": "2022-07-22T03:49:41.670513Z"
    },
    "papermill": {
     "duration": 0.01999,
     "end_time": "2022-07-22T03:49:41.674138",
     "exception": false,
     "start_time": "2022-07-22T03:49:41.654148",
     "status": "completed"
    },
    "tags": []
   },
   "outputs": [
    {
     "data": {
      "text/plain": [
       "array([  0,   0,   0,   0,   0,   0,   0,   0,   0,   0,   0,   0,   0,\n",
       "         0,   0,   0,   0,   0,   0,   0,   0,   0,   0,   0,   0,   0,\n",
       "         0,   0,   0,   0,   0,   0,   0,   0,   0,   0,   0,   0,   0,\n",
       "         0,   0,   0,   0,   0,   0,   0,   0,   0,   0,   0,   0,   0,\n",
       "         0,   0,   0,   0,   0,   0,   0,   0,   0,   0,   0,   0,   0,\n",
       "         0,   0,   0,   0,   0,   0,   0,   0,   0,   0,   0,   0,   0,\n",
       "         0,   0,   0,   0,   0,   0,   0,   0,   0,   0,   0,   0,   0,\n",
       "         0,   0,   0,   0,   0,   0,   0,   0,   0,   0,   0,   0,   0,\n",
       "         0,   0,   0,   0,   0,   0,   0,   0,   0,   0,   0,   0,   0,\n",
       "         0,   0,   0,   0,   0,   0,   0,   0,   0,   0,   0,   0,   0,\n",
       "         0,   0, 188, 255,  94,   0,   0,   0,   0,   0,   0,   0,   0,\n",
       "         0,   0,   0,   0,   0,   0,   0,   0,   0,   0,   0,   0,   0,\n",
       "         0,   0,   0, 191, 250, 253,  93,   0,   0,   0,   0,   0,   0,\n",
       "         0,   0,   0,   0,   0,   0,   0,   0,   0,   0,   0,   0,   0,\n",
       "         0,   0,   0,   0, 123, 248, 253, 167,  10,   0,   0,   0,   0,\n",
       "         0,   0,   0,   0,   0,   0,   0,   0,   0,   0,   0,   0,   0,\n",
       "         0,   0,   0,   0,   0,  80, 247, 253, 208,  13,   0,   0,   0,\n",
       "         0,   0,   0,   0,   0,   0,   0,   0,   0,   0,   0,   0,   0,\n",
       "         0,   0,   0,   0,   0,   0,  29, 207, 253, 235,  77,   0,   0,\n",
       "         0,   0,   0,   0,   0,   0,   0,   0,   0,   0,   0,   0,   0,\n",
       "         0,   0,   0,   0,   0,   0,   0,  54, 209, 253, 253,  88,   0,\n",
       "         0,   0,   0,   0,   0,   0,   0,   0,   0,   0,   0,   0,   0,\n",
       "         0,   0,   0,   0,   0,   0,   0,   0,  93, 254, 253, 238, 170,\n",
       "        17,   0,   0,   0,   0,   0,   0,   0,   0,   0,   0,   0,   0,\n",
       "         0,   0,   0,   0,   0,   0,   0,   0,   0,  23, 210, 254, 253,\n",
       "       159,   0,   0,   0,   0,   0,   0,   0,   0,   0,   0,   0,   0,\n",
       "         0,   0,   0,   0,   0,   0,   0,   0,   0,   0,  16, 209, 253,\n",
       "       254, 240,  81,   0,   0,   0,   0,   0,   0,   0,   0,   0,   0,\n",
       "         0,   0,   0,   0,   0,   0,   0,   0,   0,   0,   0,   0,  27,\n",
       "       253, 253, 254,  13,   0,   0,   0,   0,   0,   0,   0,   0,   0,\n",
       "         0,   0,   0,   0,   0,   0,   0,   0,   0,   0,   0,   0,   0,\n",
       "        20, 206, 254, 254, 198,   7,   0,   0,   0,   0,   0,   0,   0,\n",
       "         0,   0,   0,   0,   0,   0,   0,   0,   0,   0,   0,   0,   0,\n",
       "         0,   0, 168, 253, 253, 196,   7,   0,   0,   0,   0,   0,   0,\n",
       "         0,   0,   0,   0,   0,   0,   0,   0,   0,   0,   0,   0,   0,\n",
       "         0,   0,   0,  20, 203, 253, 248,  76,   0,   0,   0,   0,   0,\n",
       "         0,   0,   0,   0,   0,   0,   0,   0,   0,   0,   0,   0,   0,\n",
       "         0,   0,   0,   0,  22, 188, 253, 245,  93,   0,   0,   0,   0,\n",
       "         0,   0,   0,   0,   0,   0,   0,   0,   0,   0,   0,   0,   0,\n",
       "         0,   0,   0,   0,   0,   0, 103, 253, 253, 191,   0,   0,   0,\n",
       "         0,   0,   0,   0,   0,   0,   0,   0,   0,   0,   0,   0,   0,\n",
       "         0,   0,   0,   0,   0,   0,   0,  89, 240, 253, 195,  25,   0,\n",
       "         0,   0,   0,   0,   0,   0,   0,   0,   0,   0,   0,   0,   0,\n",
       "         0,   0,   0,   0,   0,   0,   0,   0,  15, 220, 253, 253,  80,\n",
       "         0,   0,   0,   0,   0,   0,   0,   0,   0,   0,   0,   0,   0,\n",
       "         0,   0,   0,   0,   0,   0,   0,   0,   0,   0,  94, 253, 253,\n",
       "       253,  94,   0,   0,   0,   0,   0,   0,   0,   0,   0,   0,   0,\n",
       "         0,   0,   0,   0,   0,   0,   0,   0,   0,   0,   0,   0,  89,\n",
       "       251, 253, 250, 131,   0,   0,   0,   0,   0,   0,   0,   0,   0,\n",
       "         0,   0,   0,   0,   0,   0,   0,   0,   0,   0,   0,   0,   0,\n",
       "         0,   0, 214, 218,  95,   0,   0,   0,   0,   0,   0,   0,   0,\n",
       "         0,   0,   0,   0,   0,   0,   0,   0,   0,   0,   0,   0,   0,\n",
       "         0,   0,   0,   0,   0,   0,   0,   0,   0,   0,   0,   0,   0,\n",
       "         0,   0,   0,   0,   0,   0,   0,   0,   0,   0,   0,   0,   0,\n",
       "         0,   0,   0,   0,   0,   0,   0,   0,   0,   0,   0,   0,   0,\n",
       "         0,   0,   0,   0,   0,   0,   0,   0,   0,   0,   0,   0,   0,\n",
       "         0,   0,   0,   0,   0,   0,   0,   0,   0,   0,   0,   0,   0,\n",
       "         0,   0,   0,   0,   0,   0,   0,   0,   0,   0,   0,   0,   0,\n",
       "         0,   0,   0,   0,   0,   0,   0,   0,   0,   0,   0,   0,   0,\n",
       "         0,   0,   0,   0,   0,   0,   0,   0,   0,   0,   0,   0,   0,\n",
       "         0,   0,   0,   0])"
      ]
     },
     "execution_count": 11,
     "metadata": {},
     "output_type": "execute_result"
    }
   ],
   "source": [
    "X_train[0]"
   ]
  },
  {
   "cell_type": "code",
   "execution_count": 12,
   "id": "6d72c57b",
   "metadata": {
    "execution": {
     "iopub.execute_input": "2022-07-22T03:49:41.691102Z",
     "iopub.status.busy": "2022-07-22T03:49:41.690736Z",
     "iopub.status.idle": "2022-07-22T03:49:41.696385Z",
     "shell.execute_reply": "2022-07-22T03:49:41.695446Z"
    },
    "papermill": {
     "duration": 0.017254,
     "end_time": "2022-07-22T03:49:41.698975",
     "exception": false,
     "start_time": "2022-07-22T03:49:41.681721",
     "status": "completed"
    },
    "tags": []
   },
   "outputs": [
    {
     "data": {
      "text/plain": [
       "(42000, 784)"
      ]
     },
     "execution_count": 12,
     "metadata": {},
     "output_type": "execute_result"
    }
   ],
   "source": [
    "X_train.shape"
   ]
  },
  {
   "cell_type": "code",
   "execution_count": 13,
   "id": "cea7ba00",
   "metadata": {
    "execution": {
     "iopub.execute_input": "2022-07-22T03:49:41.715944Z",
     "iopub.status.busy": "2022-07-22T03:49:41.715348Z",
     "iopub.status.idle": "2022-07-22T03:49:41.852793Z",
     "shell.execute_reply": "2022-07-22T03:49:41.851659Z"
    },
    "papermill": {
     "duration": 0.149171,
     "end_time": "2022-07-22T03:49:41.855627",
     "exception": false,
     "start_time": "2022-07-22T03:49:41.706456",
     "status": "completed"
    },
    "tags": []
   },
   "outputs": [],
   "source": [
    "X_train = X_train/255"
   ]
  },
  {
   "cell_type": "code",
   "execution_count": 14,
   "id": "0f4b6020",
   "metadata": {
    "execution": {
     "iopub.execute_input": "2022-07-22T03:49:41.873292Z",
     "iopub.status.busy": "2022-07-22T03:49:41.872896Z",
     "iopub.status.idle": "2022-07-22T03:49:41.968604Z",
     "shell.execute_reply": "2022-07-22T03:49:41.967268Z"
    },
    "papermill": {
     "duration": 0.107607,
     "end_time": "2022-07-22T03:49:41.971384",
     "exception": false,
     "start_time": "2022-07-22T03:49:41.863777",
     "status": "completed"
    },
    "tags": []
   },
   "outputs": [],
   "source": [
    "X_test = X_test/255"
   ]
  },
  {
   "cell_type": "code",
   "execution_count": 15,
   "id": "3c92923e",
   "metadata": {
    "execution": {
     "iopub.execute_input": "2022-07-22T03:49:41.989145Z",
     "iopub.status.busy": "2022-07-22T03:49:41.988750Z",
     "iopub.status.idle": "2022-07-22T03:50:30.995021Z",
     "shell.execute_reply": "2022-07-22T03:50:30.993735Z"
    },
    "papermill": {
     "duration": 49.018259,
     "end_time": "2022-07-22T03:50:30.997572",
     "exception": false,
     "start_time": "2022-07-22T03:49:41.979313",
     "status": "completed"
    },
    "tags": []
   },
   "outputs": [
    {
     "name": "stderr",
     "output_type": "stream",
     "text": [
      "2022-07-22 03:49:42.036067: I tensorflow/core/common_runtime/process_util.cc:146] Creating new thread pool with default inter op setting: 2. Tune using inter_op_parallelism_threads for best performance.\n",
      "2022-07-22 03:49:42.448010: I tensorflow/compiler/mlir/mlir_graph_optimization_pass.cc:185] None of the MLIR Optimization Passes are enabled (registered 2)\n"
     ]
    },
    {
     "name": "stdout",
     "output_type": "stream",
     "text": [
      "Epoch 1/20\n",
      "1313/1313 [==============================] - 3s 2ms/step - loss: 0.5123 - accuracy: 0.8698\n",
      "Epoch 2/20\n",
      "1313/1313 [==============================] - 2s 2ms/step - loss: 0.3138 - accuracy: 0.9131\n",
      "Epoch 3/20\n",
      "1313/1313 [==============================] - 3s 2ms/step - loss: 0.2867 - accuracy: 0.9194\n",
      "Epoch 4/20\n",
      "1313/1313 [==============================] - 2s 2ms/step - loss: 0.2735 - accuracy: 0.9233\n",
      "Epoch 5/20\n",
      "1313/1313 [==============================] - 3s 2ms/step - loss: 0.2654 - accuracy: 0.9256\n",
      "Epoch 6/20\n",
      "1313/1313 [==============================] - 2s 2ms/step - loss: 0.2586 - accuracy: 0.9278\n",
      "Epoch 7/20\n",
      "1313/1313 [==============================] - 2s 2ms/step - loss: 0.2541 - accuracy: 0.9286\n",
      "Epoch 8/20\n",
      "1313/1313 [==============================] - 2s 2ms/step - loss: 0.2495 - accuracy: 0.9295\n",
      "Epoch 9/20\n",
      "1313/1313 [==============================] - 2s 2ms/step - loss: 0.2470 - accuracy: 0.9296\n",
      "Epoch 10/20\n",
      "1313/1313 [==============================] - 2s 2ms/step - loss: 0.2436 - accuracy: 0.9310\n",
      "Epoch 11/20\n",
      "1313/1313 [==============================] - 2s 2ms/step - loss: 0.2414 - accuracy: 0.9321\n",
      "Epoch 12/20\n",
      "1313/1313 [==============================] - 2s 2ms/step - loss: 0.2392 - accuracy: 0.9327\n",
      "Epoch 13/20\n",
      "1313/1313 [==============================] - 2s 2ms/step - loss: 0.2376 - accuracy: 0.9326\n",
      "Epoch 14/20\n",
      "1313/1313 [==============================] - 2s 2ms/step - loss: 0.2353 - accuracy: 0.9343\n",
      "Epoch 15/20\n",
      "1313/1313 [==============================] - 2s 2ms/step - loss: 0.2337 - accuracy: 0.9343\n",
      "Epoch 16/20\n",
      "1313/1313 [==============================] - 2s 2ms/step - loss: 0.2331 - accuracy: 0.9341\n",
      "Epoch 17/20\n",
      "1313/1313 [==============================] - 2s 2ms/step - loss: 0.2314 - accuracy: 0.9339\n",
      "Epoch 18/20\n",
      "1313/1313 [==============================] - 2s 2ms/step - loss: 0.2299 - accuracy: 0.9346\n",
      "Epoch 19/20\n",
      "1313/1313 [==============================] - 3s 2ms/step - loss: 0.2287 - accuracy: 0.9356\n",
      "Epoch 20/20\n",
      "1313/1313 [==============================] - 2s 2ms/step - loss: 0.2280 - accuracy: 0.9353\n"
     ]
    },
    {
     "data": {
      "text/plain": [
       "<keras.callbacks.History at 0x7f1f5ec7d190>"
      ]
     },
     "execution_count": 15,
     "metadata": {},
     "output_type": "execute_result"
    }
   ],
   "source": [
    "model = keras.Sequential([\n",
    "      keras.layers.Dense(10,input_shape=(X_train.shape[1],),activation='sigmoid')\n",
    "])\n",
    "\n",
    "model.compile(\n",
    "    optimizer='adam',\n",
    "    loss='sparse_categorical_crossentropy',\n",
    "    metrics=['accuracy']\n",
    ")\n",
    "\n",
    "model.fit(X_train,y_train,epochs=20)"
   ]
  },
  {
   "cell_type": "code",
   "execution_count": 16,
   "id": "d7a9c7a4",
   "metadata": {
    "execution": {
     "iopub.execute_input": "2022-07-22T03:50:31.153761Z",
     "iopub.status.busy": "2022-07-22T03:50:31.153066Z",
     "iopub.status.idle": "2022-07-22T03:50:32.184437Z",
     "shell.execute_reply": "2022-07-22T03:50:32.183250Z"
    },
    "papermill": {
     "duration": 1.112786,
     "end_time": "2022-07-22T03:50:32.187780",
     "exception": false,
     "start_time": "2022-07-22T03:50:31.074994",
     "status": "completed"
    },
    "tags": []
   },
   "outputs": [],
   "source": [
    "y_pred = model.predict(X_test)"
   ]
  },
  {
   "cell_type": "code",
   "execution_count": 17,
   "id": "1d1b9e9f",
   "metadata": {
    "execution": {
     "iopub.execute_input": "2022-07-22T03:50:32.342941Z",
     "iopub.status.busy": "2022-07-22T03:50:32.342235Z",
     "iopub.status.idle": "2022-07-22T03:50:32.425089Z",
     "shell.execute_reply": "2022-07-22T03:50:32.423999Z"
    },
    "papermill": {
     "duration": 0.162455,
     "end_time": "2022-07-22T03:50:32.427462",
     "exception": false,
     "start_time": "2022-07-22T03:50:32.265007",
     "status": "completed"
    },
    "tags": []
   },
   "outputs": [
    {
     "data": {
      "text/plain": [
       "[2, 0, 9, 7, 3]"
      ]
     },
     "execution_count": 17,
     "metadata": {},
     "output_type": "execute_result"
    }
   ],
   "source": [
    "y_pred = [np.argmax(i) for i in y_pred]\n",
    "y_pred[:5]"
   ]
  },
  {
   "cell_type": "code",
   "execution_count": 18,
   "id": "d7056486",
   "metadata": {
    "execution": {
     "iopub.execute_input": "2022-07-22T03:50:32.578977Z",
     "iopub.status.busy": "2022-07-22T03:50:32.578571Z",
     "iopub.status.idle": "2022-07-22T03:50:32.603771Z",
     "shell.execute_reply": "2022-07-22T03:50:32.602831Z"
    },
    "papermill": {
     "duration": 0.10397,
     "end_time": "2022-07-22T03:50:32.606332",
     "exception": false,
     "start_time": "2022-07-22T03:50:32.502362",
     "status": "completed"
    },
    "tags": []
   },
   "outputs": [],
   "source": [
    "col = pd.read_csv('../input/digit-reg/sample_submission.csv')\n",
    "cols = col['ImageId']"
   ]
  },
  {
   "cell_type": "code",
   "execution_count": 19,
   "id": "9d9a5af7",
   "metadata": {
    "execution": {
     "iopub.execute_input": "2022-07-22T03:50:32.763498Z",
     "iopub.status.busy": "2022-07-22T03:50:32.762807Z",
     "iopub.status.idle": "2022-07-22T03:50:32.794916Z",
     "shell.execute_reply": "2022-07-22T03:50:32.793782Z"
    },
    "papermill": {
     "duration": 0.113937,
     "end_time": "2022-07-22T03:50:32.797267",
     "exception": false,
     "start_time": "2022-07-22T03:50:32.683330",
     "status": "completed"
    },
    "tags": []
   },
   "outputs": [
    {
     "data": {
      "text/html": [
       "<div>\n",
       "<style scoped>\n",
       "    .dataframe tbody tr th:only-of-type {\n",
       "        vertical-align: middle;\n",
       "    }\n",
       "\n",
       "    .dataframe tbody tr th {\n",
       "        vertical-align: top;\n",
       "    }\n",
       "\n",
       "    .dataframe thead th {\n",
       "        text-align: right;\n",
       "    }\n",
       "</style>\n",
       "<table border=\"1\" class=\"dataframe\">\n",
       "  <thead>\n",
       "    <tr style=\"text-align: right;\">\n",
       "      <th></th>\n",
       "      <th>ImageId</th>\n",
       "      <th>0</th>\n",
       "    </tr>\n",
       "  </thead>\n",
       "  <tbody>\n",
       "    <tr>\n",
       "      <th>0</th>\n",
       "      <td>1</td>\n",
       "      <td>2</td>\n",
       "    </tr>\n",
       "    <tr>\n",
       "      <th>1</th>\n",
       "      <td>2</td>\n",
       "      <td>0</td>\n",
       "    </tr>\n",
       "    <tr>\n",
       "      <th>2</th>\n",
       "      <td>3</td>\n",
       "      <td>9</td>\n",
       "    </tr>\n",
       "    <tr>\n",
       "      <th>3</th>\n",
       "      <td>4</td>\n",
       "      <td>7</td>\n",
       "    </tr>\n",
       "    <tr>\n",
       "      <th>4</th>\n",
       "      <td>5</td>\n",
       "      <td>3</td>\n",
       "    </tr>\n",
       "    <tr>\n",
       "      <th>...</th>\n",
       "      <td>...</td>\n",
       "      <td>...</td>\n",
       "    </tr>\n",
       "    <tr>\n",
       "      <th>27995</th>\n",
       "      <td>27996</td>\n",
       "      <td>9</td>\n",
       "    </tr>\n",
       "    <tr>\n",
       "      <th>27996</th>\n",
       "      <td>27997</td>\n",
       "      <td>7</td>\n",
       "    </tr>\n",
       "    <tr>\n",
       "      <th>27997</th>\n",
       "      <td>27998</td>\n",
       "      <td>3</td>\n",
       "    </tr>\n",
       "    <tr>\n",
       "      <th>27998</th>\n",
       "      <td>27999</td>\n",
       "      <td>9</td>\n",
       "    </tr>\n",
       "    <tr>\n",
       "      <th>27999</th>\n",
       "      <td>28000</td>\n",
       "      <td>2</td>\n",
       "    </tr>\n",
       "  </tbody>\n",
       "</table>\n",
       "<p>28000 rows × 2 columns</p>\n",
       "</div>"
      ],
      "text/plain": [
       "       ImageId  0\n",
       "0            1  2\n",
       "1            2  0\n",
       "2            3  9\n",
       "3            4  7\n",
       "4            5  3\n",
       "...        ... ..\n",
       "27995    27996  9\n",
       "27996    27997  7\n",
       "27997    27998  3\n",
       "27998    27999  9\n",
       "27999    28000  2\n",
       "\n",
       "[28000 rows x 2 columns]"
      ]
     },
     "execution_count": 19,
     "metadata": {},
     "output_type": "execute_result"
    }
   ],
   "source": [
    "data = pd.concat([pd.Series(cols,name='ImageId'),pd.Series(y_pred)],axis=1)\n",
    "data"
   ]
  },
  {
   "cell_type": "code",
   "execution_count": 20,
   "id": "a1b9c1a1",
   "metadata": {
    "execution": {
     "iopub.execute_input": "2022-07-22T03:50:32.951894Z",
     "iopub.status.busy": "2022-07-22T03:50:32.951319Z",
     "iopub.status.idle": "2022-07-22T03:50:33.004643Z",
     "shell.execute_reply": "2022-07-22T03:50:33.003533Z"
    },
    "papermill": {
     "duration": 0.133496,
     "end_time": "2022-07-22T03:50:33.007394",
     "exception": false,
     "start_time": "2022-07-22T03:50:32.873898",
     "status": "completed"
    },
    "tags": []
   },
   "outputs": [],
   "source": [
    "data.to_csv('submission.csv',index=False)"
   ]
  }
 ],
 "metadata": {
  "kernelspec": {
   "display_name": "Python 3",
   "language": "python",
   "name": "python3"
  },
  "language_info": {
   "codemirror_mode": {
    "name": "ipython",
    "version": 3
   },
   "file_extension": ".py",
   "mimetype": "text/x-python",
   "name": "python",
   "nbconvert_exporter": "python",
   "pygments_lexer": "ipython3",
   "version": "3.7.12"
  },
  "papermill": {
   "default_parameters": {},
   "duration": 82.787305,
   "end_time": "2022-07-22T03:50:35.734883",
   "environment_variables": {},
   "exception": null,
   "input_path": "__notebook__.ipynb",
   "output_path": "__notebook__.ipynb",
   "parameters": {},
   "start_time": "2022-07-22T03:49:12.947578",
   "version": "2.3.4"
  }
 },
 "nbformat": 4,
 "nbformat_minor": 5
}
